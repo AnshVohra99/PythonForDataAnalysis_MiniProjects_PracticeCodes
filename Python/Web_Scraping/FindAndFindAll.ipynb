{
 "cells": [
  {
   "cell_type": "markdown",
   "id": "2c165db6",
   "metadata": {},
   "source": [
    "# FIND AND FIND ALL"
   ]
  },
  {
   "cell_type": "code",
   "execution_count": 7,
   "id": "c4642a4a",
   "metadata": {},
   "outputs": [
    {
     "data": {
      "text/plain": [
       "'Team Name'"
      ]
     },
     "execution_count": 7,
     "metadata": {},
     "output_type": "execute_result"
    }
   ],
   "source": [
    "from bs4 import BeautifulSoup\n",
    "import requests\n",
    "url='https://www.scrapethissite.com/pages/forms/'\n",
    "page=requests.get(url)\n",
    "soup=BeautifulSoup(page.text,'html')\n",
    "soup.find('th').text.strip()"
   ]
  },
  {
   "cell_type": "code",
   "execution_count": null,
   "id": "a7c379cc",
   "metadata": {},
   "outputs": [],
   "source": []
  }
 ],
 "metadata": {
  "kernelspec": {
   "display_name": "Python 3 (ipykernel)",
   "language": "python",
   "name": "python3"
  },
  "language_info": {
   "codemirror_mode": {
    "name": "ipython",
    "version": 3
   },
   "file_extension": ".py",
   "mimetype": "text/x-python",
   "name": "python",
   "nbconvert_exporter": "python",
   "pygments_lexer": "ipython3",
   "version": "3.11.5"
  }
 },
 "nbformat": 4,
 "nbformat_minor": 5
}
