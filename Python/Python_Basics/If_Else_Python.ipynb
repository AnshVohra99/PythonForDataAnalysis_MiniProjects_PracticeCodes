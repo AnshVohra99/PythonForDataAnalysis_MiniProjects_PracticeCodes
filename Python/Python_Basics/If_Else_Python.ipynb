{
 "cells": [
  {
   "cell_type": "code",
   "execution_count": 2,
   "id": "6b803c66",
   "metadata": {},
   "outputs": [
    {
     "name": "stdout",
     "output_type": "stream",
     "text": [
      "It worked\n"
     ]
    }
   ],
   "source": [
    "if 25>10:\n",
    "    print('It worked')"
   ]
  },
  {
   "cell_type": "code",
   "execution_count": 3,
   "id": "4f44cdd8",
   "metadata": {},
   "outputs": [
    {
     "name": "stdout",
     "output_type": "stream",
     "text": [
      "Did not work\n"
     ]
    }
   ],
   "source": [
    "if 25<10:\n",
    "    print('It worked')\n",
    "else:\n",
    "    print('Did not work')"
   ]
  },
  {
   "cell_type": "code",
   "execution_count": 4,
   "id": "481d8cfc",
   "metadata": {},
   "outputs": [
    {
     "name": "stdout",
     "output_type": "stream",
     "text": [
      "elif worked\n"
     ]
    }
   ],
   "source": [
    "if 25<10:\n",
    "    print('It worked')\n",
    "elif 25<30:\n",
    "    print('elif worked')\n",
    "else:\n",
    "    print('did not work')"
   ]
  },
  {
   "cell_type": "code",
   "execution_count": 5,
   "id": "50743eaf",
   "metadata": {},
   "outputs": [
    {
     "name": "stdout",
     "output_type": "stream",
     "text": [
      "It did not work\n"
     ]
    }
   ],
   "source": [
    "print('it worked') if 10>30 else print('It did not work')"
   ]
  },
  {
   "cell_type": "code",
   "execution_count": 6,
   "id": "060980b6",
   "metadata": {},
   "outputs": [
    {
     "name": "stdout",
     "output_type": "stream",
     "text": [
      "it worked\n",
      "nested if worked\n"
     ]
    }
   ],
   "source": [
    "if (25<10) or (1<3):\n",
    "    print('it worked')\n",
    "    if 10>5:\n",
    "        print('nested if worked')\n",
    "else:\n",
    "    print('did not work')"
   ]
  },
  {
   "cell_type": "code",
   "execution_count": null,
   "id": "8fd112df",
   "metadata": {},
   "outputs": [],
   "source": []
  }
 ],
 "metadata": {
  "kernelspec": {
   "display_name": "Python 3 (ipykernel)",
   "language": "python",
   "name": "python3"
  },
  "language_info": {
   "codemirror_mode": {
    "name": "ipython",
    "version": 3
   },
   "file_extension": ".py",
   "mimetype": "text/x-python",
   "name": "python",
   "nbconvert_exporter": "python",
   "pygments_lexer": "ipython3",
   "version": "3.11.5"
  }
 },
 "nbformat": 4,
 "nbformat_minor": 5
}
