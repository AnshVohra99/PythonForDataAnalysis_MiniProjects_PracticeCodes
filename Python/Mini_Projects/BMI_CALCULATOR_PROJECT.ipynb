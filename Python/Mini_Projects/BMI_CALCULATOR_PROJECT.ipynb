{
 "cells": [
  {
   "cell_type": "markdown",
   "id": "e9de72ec",
   "metadata": {},
   "source": [
    "# BMI Calculator"
   ]
  },
  {
   "cell_type": "code",
   "execution_count": 4,
   "id": "ae8c4518",
   "metadata": {},
   "outputs": [
    {
     "name": "stdout",
     "output_type": "stream",
     "text": [
      "Enter your name:Ansh Vohra\n",
      "Enter your weight in pounds:200\n",
      "Enter your height in inches70\n",
      "Ansh Vohra, your BMI is:28.69\n",
      "Ansh Vohra,you are overweight.\n"
     ]
    }
   ],
   "source": [
    "name=input(\"Enter your name:\")\n",
    "weight=int(input(\"Enter your weight in pounds:\"))\n",
    "height=int(input(\"Enter your height in inches\"))\n",
    "nBMI=(weight*703)/(height*height)\n",
    "BMI=round(nBMI,2)\n",
    "print(name+\", your BMI is:\" +str(BMI))\n",
    "if BMI>0:\n",
    "    if (BMI<18.5):\n",
    "        print(name+\", you are underweight.\")\n",
    "    elif(BMI<=24.9):\n",
    "        print(name+\", you are fit.\")\n",
    "    elif(BMI<=29.9):\n",
    "        print(name+\",you are overweight.\")\n",
    "    elif(BMI<=34.9):\n",
    "        print(name+\",you are obese.\")\n",
    "    elif(BMI<=39.9):\n",
    "        print(name+\", you are severely obese\")\n",
    "    else:\n",
    "        print(name+\",you are morbidly obese\")\n",
    "else:\n",
    "    print(\"Invalid input\")"
   ]
  },
  {
   "cell_type": "code",
   "execution_count": null,
   "id": "0527f579",
   "metadata": {},
   "outputs": [],
   "source": []
  }
 ],
 "metadata": {
  "kernelspec": {
   "display_name": "Python 3 (ipykernel)",
   "language": "python",
   "name": "python3"
  },
  "language_info": {
   "codemirror_mode": {
    "name": "ipython",
    "version": 3
   },
   "file_extension": ".py",
   "mimetype": "text/x-python",
   "name": "python",
   "nbconvert_exporter": "python",
   "pygments_lexer": "ipython3",
   "version": "3.11.5"
  }
 },
 "nbformat": 4,
 "nbformat_minor": 5
}
