{
 "cells": [
  {
   "cell_type": "markdown",
   "id": "8d53a494",
   "metadata": {},
   "source": [
    "# Mini Project Scraping Data from Wikipedia\n",
    "https://en.wikipedia.org/wiki/List_of_largest_companies_in_the_United_States_by_revenue"
   ]
  },
  {
   "cell_type": "code",
   "execution_count": 14,
   "id": "595b5109",
   "metadata": {},
   "outputs": [],
   "source": [
    "from bs4 import BeautifulSoup\n",
    "import requests\n",
    "url=\"https://en.wikipedia.org/wiki/List_of_largest_companies_in_the_United_States_by_revenue\"\n",
    "page=requests.get(url)\n",
    "soup=BeautifulSoup(page.text,'html')\n",
    "table=soup.find_all('table')[1]\n",
    "world_titles=table.find_all('th')\n",
    "world_table_titles=[title.text.strip() for title in world_titles]\n",
    "import pandas as pd\n",
    "df=pd.DataFrame(columns=world_table_titles)\n",
    "column_data=table.find_all('tr')\n",
    "for row in column_data[1:]:\n",
    "    row_data=row.find_all('td')\n",
    "    individual_row_data=[data.text.strip() for data in row_data]\n",
    "    length=len(df)\n",
    "    df.loc[length]=individual_row_data\n",
    "df.to_csv(r'C:\\Users\\anshv\\Desktop\\ALEXTHEANALYST-BOOTCAMP\\Python\\Mini_Projects\\Web_Scraping_Wiki\\Companies.csv',index=False)\n"
   ]
  },
  {
   "cell_type": "code",
   "execution_count": null,
   "id": "9317a040",
   "metadata": {},
   "outputs": [],
   "source": []
  }
 ],
 "metadata": {
  "kernelspec": {
   "display_name": "Python 3 (ipykernel)",
   "language": "python",
   "name": "python3"
  },
  "language_info": {
   "codemirror_mode": {
    "name": "ipython",
    "version": 3
   },
   "file_extension": ".py",
   "mimetype": "text/x-python",
   "name": "python",
   "nbconvert_exporter": "python",
   "pygments_lexer": "ipython3",
   "version": "3.11.5"
  }
 },
 "nbformat": 4,
 "nbformat_minor": 5
}
