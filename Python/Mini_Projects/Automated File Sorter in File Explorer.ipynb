{
 "cells": [
  {
   "cell_type": "markdown",
   "id": "17d114ed",
   "metadata": {},
   "source": [
    "# AUTOMATED FILE SORTER IN FILE EXPLORER"
   ]
  },
  {
   "cell_type": "code",
   "execution_count": 5,
   "id": "dc648a2b",
   "metadata": {},
   "outputs": [],
   "source": [
    "import os,shutil\n",
    "path=r\"C:/Users/anshv/Desktop/ALEXTHEANALYST-BOOTCAMP/Python/Mini_Projects/AutomaticFileSorter/\"\n",
    "file_name=os.listdir(path)\n",
    "folder_names=['csv files','image files','text files']\n",
    "for loop in range(0,3):\n",
    "    if not os.path.exists(path + folder_names[loop]):\n",
    "        print(path+folder_names[loop])\n",
    "        os.makedirs(path+folder_names[loop])\n",
    "for file in file_name:\n",
    "    if \".csv\" in file and not os.path.exists(path+\"csv files/\" + file):\n",
    "        shutil.move(path+file,path+\"csv files/\" +file)\n",
    "    elif \".txt\" in file and not os.path.exists(path+\"text files/\" + file):\n",
    "        shutil.move(path+file,path+\"text files/\" +file)\n",
    "    elif \".jpg\" in file and not os.path.exists(path+\"image files/\" + file):\n",
    "        shutil.move(path+file,path+\"image files/\" +file)"
   ]
  },
  {
   "cell_type": "code",
   "execution_count": null,
   "id": "edcdb6d6",
   "metadata": {},
   "outputs": [],
   "source": []
  }
 ],
 "metadata": {
  "kernelspec": {
   "display_name": "Python 3 (ipykernel)",
   "language": "python",
   "name": "python3"
  },
  "language_info": {
   "codemirror_mode": {
    "name": "ipython",
    "version": 3
   },
   "file_extension": ".py",
   "mimetype": "text/x-python",
   "name": "python",
   "nbconvert_exporter": "python",
   "pygments_lexer": "ipython3",
   "version": "3.11.5"
  }
 },
 "nbformat": 4,
 "nbformat_minor": 5
}
